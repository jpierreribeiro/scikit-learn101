{
 "cells": [
  {
   "cell_type": "code",
   "execution_count": 18,
   "id": "c76c13f5",
   "metadata": {},
   "outputs": [],
   "source": [
    "from sklearn.linear_model import Perceptron\n",
    "from sklearn.datasets import load_iris\n",
    "from sklearn.model_selection import train_test_split\n",
    "from sklearn.metrics import accuracy_score\n",
    "import numpy as np"
   ]
  },
  {
   "cell_type": "code",
   "execution_count": 23,
   "id": "015c6873",
   "metadata": {},
   "outputs": [],
   "source": [
    "iris = load_iris()\n",
    "x = iris.data[:, (2, 3)]\n",
    "y = (iris.target == 0).astype(int)"
   ]
  },
  {
   "cell_type": "code",
   "execution_count": 24,
   "id": "ade650be",
   "metadata": {},
   "outputs": [],
   "source": [
    "x_train, x_test, y_train, y_test = train_test_split(\n",
    "    x,y, test_size=0.2, random_state=42)"
   ]
  },
  {
   "cell_type": "code",
   "execution_count": 25,
   "id": "077a9386",
   "metadata": {},
   "outputs": [],
   "source": [
    "per_clf = Perceptron()"
   ]
  },
  {
   "cell_type": "code",
   "execution_count": 28,
   "id": "e0fce709",
   "metadata": {},
   "outputs": [],
   "source": [
    "\n",
    "per_clf.fit(x_train, y_train)\n",
    "y_pred = per_clf.predict(x_test)"
   ]
  },
  {
   "cell_type": "code",
   "execution_count": 29,
   "id": "32d3572e",
   "metadata": {},
   "outputs": [
    {
     "name": "stdout",
     "output_type": "stream",
     "text": [
      "Acuracia do modelo: 1.00\n"
     ]
    }
   ],
   "source": [
    "acuracia = accuracy_score(y_test, y_pred)\n",
    "print(f\"Acuracia do modelo: {acuracia:.2f}\")"
   ]
  },
  {
   "cell_type": "code",
   "execution_count": 30,
   "id": "1358ae86",
   "metadata": {},
   "outputs": [
    {
     "name": "stdout",
     "output_type": "stream",
     "text": [
      "Previsão para uma flor com 2cm x 0.5cm: 1\n"
     ]
    }
   ],
   "source": [
    "nova_previsao = per_clf.predict([[2, 0.5]])\n",
    "print(f\"Previsão para uma flor com 2cm x 0.5cm: {nova_previsao[0]}\")\n"
   ]
  }
 ],
 "metadata": {
  "kernelspec": {
   "display_name": "flask",
   "language": "python",
   "name": "python3"
  },
  "language_info": {
   "codemirror_mode": {
    "name": "ipython",
    "version": 3
   },
   "file_extension": ".py",
   "mimetype": "text/x-python",
   "name": "python",
   "nbconvert_exporter": "python",
   "pygments_lexer": "ipython3",
   "version": "3.12.3"
  }
 },
 "nbformat": 4,
 "nbformat_minor": 5
}
